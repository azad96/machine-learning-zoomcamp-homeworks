{
  "nbformat": 4,
  "nbformat_minor": 0,
  "metadata": {
    "colab": {
      "provenance": []
    },
    "kernelspec": {
      "name": "python3",
      "display_name": "Python 3"
    },
    "language_info": {
      "name": "python"
    }
  },
  "cells": [
    {
      "cell_type": "code",
      "execution_count": 3,
      "metadata": {
        "colab": {
          "base_uri": "https://localhost:8080/"
        },
        "id": "JuyrWiebYPGF",
        "outputId": "9285ca34-e464-43d4-b45f-6753e4445762"
      },
      "outputs": [
        {
          "output_type": "stream",
          "name": "stdout",
          "text": [
            "--2024-10-07 14:28:55--  https://raw.githubusercontent.com/alexeygrigorev/datasets/master/laptops.csv\n",
            "Resolving raw.githubusercontent.com (raw.githubusercontent.com)... 185.199.109.133, 185.199.110.133, 185.199.111.133, ...\n",
            "Connecting to raw.githubusercontent.com (raw.githubusercontent.com)|185.199.109.133|:443... connected.\n",
            "HTTP request sent, awaiting response... 200 OK\n",
            "Length: 298573 (292K) [text/plain]\n",
            "Saving to: ‘laptops.csv’\n",
            "\n",
            "\rlaptops.csv           0%[                    ]       0  --.-KB/s               \rlaptops.csv         100%[===================>] 291.58K  --.-KB/s    in 0.04s   \n",
            "\n",
            "2024-10-07 14:28:56 (6.43 MB/s) - ‘laptops.csv’ saved [298573/298573]\n",
            "\n"
          ]
        }
      ],
      "source": [
        "!wget https://raw.githubusercontent.com/alexeygrigorev/datasets/master/laptops.csv"
      ]
    },
    {
      "cell_type": "code",
      "source": [
        "import matplotlib.pyplot as plt\n",
        "import numpy as np\n",
        "import pandas as pd\n",
        "import seaborn as sns"
      ],
      "metadata": {
        "id": "JcPRlNjAYWC7"
      },
      "execution_count": 125,
      "outputs": []
    },
    {
      "cell_type": "code",
      "source": [
        "df = pd.read_csv('laptops.csv')"
      ],
      "metadata": {
        "id": "lYVE-3UyYrxr"
      },
      "execution_count": 145,
      "outputs": []
    },
    {
      "cell_type": "code",
      "source": [
        "df.columns = df.columns.str.lower().str.replace(' ', '_')"
      ],
      "metadata": {
        "id": "JKV8rs33YvQ2"
      },
      "execution_count": 146,
      "outputs": []
    },
    {
      "cell_type": "code",
      "source": [
        "# Select only storage, ram, screen, and final_price\n",
        "columns = ['storage', 'ram', 'screen', 'final_price']\n",
        "df = df[columns]"
      ],
      "metadata": {
        "id": "an2vEG39Id61"
      },
      "execution_count": 157,
      "outputs": []
    },
    {
      "cell_type": "code",
      "source": [
        "sns.histplot(df.final_price)\n",
        "# EDA: It has a long tail"
      ],
      "metadata": {
        "colab": {
          "base_uri": "https://localhost:8080/",
          "height": 467
        },
        "id": "-exadG5lYvzX",
        "outputId": "bdc0f4d6-19a5-452c-8a67-981c66d33232"
      },
      "execution_count": 158,
      "outputs": [
        {
          "output_type": "execute_result",
          "data": {
            "text/plain": [
              "<Axes: xlabel='final_price', ylabel='Count'>"
            ]
          },
          "metadata": {},
          "execution_count": 158
        },
        {
          "output_type": "display_data",
          "data": {
            "text/plain": [
              "<Figure size 640x480 with 1 Axes>"
            ],
            "image/png": "[encoded data removed]"
          },
          "metadata": {}
        }
      ]
    },
    {
      "cell_type": "code",
      "source": [
        "sns.histplot(np.log1p(df.final_price))\n",
        "# EDA: now it looks more a normal distribution"
      ],
      "metadata": {
        "colab": {
          "base_uri": "https://localhost:8080/",
          "height": 467
        },
        "id": "TeDKMk2rcXEd",
        "outputId": "2096b876-d1bf-4643-9278-6e24738b2466"
      },
      "execution_count": 159,
      "outputs": [
        {
          "output_type": "execute_result",
          "data": {
            "text/plain": [
              "<Axes: xlabel='final_price', ylabel='Count'>"
            ]
          },
          "metadata": {},
          "execution_count": 159
        },
        {
          "output_type": "display_data",
          "data": {
            "text/plain": [
              "<Figure size 640x480 with 1 Axes>"
            ],
            "image/png": "[encoded data removed]"
          },
          "metadata": {}
        }
      ]
    },
    {
      "cell_type": "code",
      "source": [
        "'''\n",
        "Question 1\n",
        "There's one column with missing values. What is it?\n",
        "'''\n",
        "df.isnull().sum()"
      ],
      "metadata": {
        "colab": {
          "base_uri": "https://localhost:8080/",
          "height": 207
        },
        "id": "4LNT1qT9aVra",
        "outputId": "650cf1de-87dd-4bd2-c63e-ab4837481776"
      },
      "execution_count": 160,
      "outputs": [
        {
          "output_type": "execute_result",
          "data": {
            "text/plain": [
              "storage        0\n",
              "ram            0\n",
              "screen         4\n",
              "final_price    0\n",
              "dtype: int64"
            ],
            "text/html": [
              "<div>\n",
              "<style scoped>\n",
              "    .dataframe tbody tr th:only-of-type {\n",
              "        vertical-align: middle;\n",
              "    }\n",
              "\n",
              "    .dataframe tbody tr th {\n",
              "        vertical-align: top;\n",
              "    }\n",
              "\n",
              "    .dataframe thead th {\n",
              "        text-align: right;\n",
              "    }\n",
              "</style>\n",
              "<table border=\"1\" class=\"dataframe\">\n",
              "  <thead>\n",
              "    <tr style=\"text-align: right;\">\n",
              "      <th></th>\n",
              "      <th>0</th>\n",
              "    </tr>\n",
              "  </thead>\n",
              "  <tbody>\n",
              "    <tr>\n",
              "      <th>storage</th>\n",
              "      <td>0</td>\n",
              "    </tr>\n",
              "    <tr>\n",
              "      <th>ram</th>\n",
              "      <td>0</td>\n",
              "    </tr>\n",
              "    <tr>\n",
              "      <th>screen</th>\n",
              "      <td>4</td>\n",
              "    </tr>\n",
              "    <tr>\n",
              "      <th>final_price</th>\n",
              "      <td>0</td>\n",
              "    </tr>\n",
              "  </tbody>\n",
              "</table>\n",
              "</div><br><label><b>dtype:</b> int64</label>"
            ]
          },
          "metadata": {},
          "execution_count": 160
        }
      ]
    },
    {
      "cell_type": "code",
      "source": [
        "'''\n",
        "Question 2\n",
        "What's the median (50% percentile) for variable \"ram\"?\n",
        "'''\n",
        "df.ram.describe()"
      ],
      "metadata": {
        "colab": {
          "base_uri": "https://localhost:8080/",
          "height": 331
        },
        "id": "TgHw4QpGatpN",
        "outputId": "c75e1e8e-110c-41a0-ae85-90eb4d19a07b"
      },
      "execution_count": 161,
      "outputs": [
        {
          "output_type": "execute_result",
          "data": {
            "text/plain": [
              "count    2160.000000\n",
              "mean       15.413889\n",
              "std         9.867815\n",
              "min         4.000000\n",
              "25%         8.000000\n",
              "50%        16.000000\n",
              "75%        16.000000\n",
              "max       128.000000\n",
              "Name: ram, dtype: float64"
            ],
            "text/html": [
              "<div>\n",
              "<style scoped>\n",
              "    .dataframe tbody tr th:only-of-type {\n",
              "        vertical-align: middle;\n",
              "    }\n",
              "\n",
              "    .dataframe tbody tr th {\n",
              "        vertical-align: top;\n",
              "    }\n",
              "\n",
              "    .dataframe thead th {\n",
              "        text-align: right;\n",
              "    }\n",
              "</style>\n",
              "<table border=\"1\" class=\"dataframe\">\n",
              "  <thead>\n",
              "    <tr style=\"text-align: right;\">\n",
              "      <th></th>\n",
              "      <th>ram</th>\n",
              "    </tr>\n",
              "  </thead>\n",
              "  <tbody>\n",
              "    <tr>\n",
              "      <th>count</th>\n",
              "      <td>2160.000000</td>\n",
              "    </tr>\n",
              "    <tr>\n",
              "      <th>mean</th>\n",
              "      <td>15.413889</td>\n",
              "    </tr>\n",
              "    <tr>\n",
              "      <th>std</th>\n",
              "      <td>9.867815</td>\n",
              "    </tr>\n",
              "    <tr>\n",
              "      <th>min</th>\n",
              "      <td>4.000000</td>\n",
              "    </tr>\n",
              "    <tr>\n",
              "      <th>25%</th>\n",
              "      <td>8.000000</td>\n",
              "    </tr>\n",
              "    <tr>\n",
              "      <th>50%</th>\n",
              "      <td>16.000000</td>\n",
              "    </tr>\n",
              "    <tr>\n",
              "      <th>75%</th>\n",
              "      <td>16.000000</td>\n",
              "    </tr>\n",
              "    <tr>\n",
              "      <th>max</th>\n",
              "      <td>128.000000</td>\n",
              "    </tr>\n",
              "  </tbody>\n",
              "</table>\n",
              "</div><br><label><b>dtype:</b> float64</label>"
            ]
          },
          "metadata": {},
          "execution_count": 161
        }
      ]
    },
    {
      "cell_type": "code",
      "source": [
        "# Prepare and split the dataset\n",
        "n = len(df)\n",
        "n_val = int(n * 0.2)\n",
        "n_test = int(n * 0.2)\n",
        "n_train = n - n_val - n_test\n",
        "print(n_train, n_val, n_test)"
      ],
      "metadata": {
        "colab": {
          "base_uri": "https://localhost:8080/"
        },
        "id": "Qf5r8h25dLsX",
        "outputId": "b8b9f354-88d8-48cf-e239-89815c136302"
      },
      "execution_count": 162,
      "outputs": [
        {
          "output_type": "stream",
          "name": "stdout",
          "text": [
            "1296 432 432\n"
          ]
        }
      ]
    },
    {
      "cell_type": "code",
      "source": [
        "np.random.seed(42)\n",
        "idx = np.arange(n)\n",
        "np.random.shuffle(idx)"
      ],
      "metadata": {
        "id": "tSBB8iV3eiFE"
      },
      "execution_count": 163,
      "outputs": []
    },
    {
      "cell_type": "code",
      "source": [
        "df_train = df.iloc[idx[:n_train]].copy()\n",
        "df_val = df.iloc[idx[n_train:n_train+n_val]].copy()\n",
        "df_test = df.iloc[idx[n_train+n_val:]].copy()\n",
        "\n",
        "df_train = df_train.reset_index(drop=True)\n",
        "df_val = df_val.reset_index(drop=True)\n",
        "df_test = df_test.reset_index(drop=True)\n",
        "\n",
        "y_train_org = df_train.final_price.values\n",
        "y_val_org = df_val.final_price.values\n",
        "y_test_org = df_test.final_price.values\n",
        "\n",
        "y_train = np.log1p(df_train.final_price.values)\n",
        "y_val = np.log1p(df_val.final_price.values)\n",
        "y_test = np.log1p(df_test.final_price.values)\n",
        "\n",
        "del df_train['final_price']\n",
        "del df_val['final_price']\n",
        "del df_test['final_price']\n",
        "\n",
        "print(len(df_train), len(df_val), len(df_test))"
      ],
      "metadata": {
        "colab": {
          "base_uri": "https://localhost:8080/"
        },
        "id": "RR2wEHrVe89O",
        "outputId": "e145ba12-391a-4d34-aa89-599efbadfb50"
      },
      "execution_count": 182,
      "outputs": [
        {
          "output_type": "stream",
          "name": "stdout",
          "text": [
            "1296 432 432\n"
          ]
        }
      ]
    },
    {
      "cell_type": "code",
      "source": [
        "'''\n",
        "Question 3\n",
        "We need to deal with missing values for the column from Q1.\n",
        "We have two options: fill it with 0 or with the mean of this variable.\n",
        "Try both options. For each, train a linear regression model without regularization using the code from the lessons.\n",
        "For computing the mean, use the training set only!\n",
        "Use the validation dataset to evaluate the models and compare the RMSE of each option.\n",
        "Round the RMSE scores to 2 decimal digits using round(score, 2)\n",
        "Which option gives better RMSE?\n",
        "'''\n",
        "def prepare_X(df, fill_value=0):\n",
        "  df_num = df.fillna(fill_value)\n",
        "  X = df_num.values\n",
        "  return X\n",
        "\n",
        "def train_linear_regression(X, y):\n",
        "  ones = np.ones(X.shape[0])\n",
        "  X = np.column_stack([ones, X])\n",
        "  XTX = X.T @ X\n",
        "  XTX_inv = np.linalg.inv(XTX)\n",
        "  W = XTX_inv @ X.T @ y\n",
        "  return W\n",
        "\n",
        "def compute_rmse(y_pred, y_org):\n",
        "  error = y_pred - y_org\n",
        "  mse = (error ** 2).mean()\n",
        "  rmse = np.sqrt(mse)\n",
        "  return rmse\n",
        "\n",
        "def plot_predictions(y_org, y_pred):\n",
        "  plt.figure(figsize=(6, 4))\n",
        "\n",
        "  sns.histplot(y_org, label='target', color='#222222', alpha=0.6, bins=40)\n",
        "  sns.histplot(y_pred, label='prediction', color='#aaaaaa', alpha=0.8, bins=40)\n",
        "\n",
        "  plt.legend()\n",
        "\n",
        "  plt.ylabel('Frequency')\n",
        "  plt.xlabel('Log(Price + 1)')\n",
        "  plt.title('Predictions vs actual distribution')\n",
        "\n",
        "  plt.show()"
      ],
      "metadata": {
        "id": "Q-1Z_dIafgi4"
      },
      "execution_count": 180,
      "outputs": []
    },
    {
      "cell_type": "code",
      "source": [
        "# Option 1: fill with 0\n",
        "X_train = prepare_X(df_train, fill_value=0)\n",
        "W = train_linear_regression(X_train, y_train)\n",
        "y_train_pred = W[0] + X_train @ W[1:]\n",
        "\n",
        "plot_predictions(y_train, y_train_pred)\n",
        "\n",
        "X_val = prepare_X(df_val, fill_value=0)\n",
        "y_val_pred = W[0] + X_val @ W[1:]\n",
        "rmse = compute_rmse(y_val_pred, y_val)\n",
        "print('RMSE when filling the NaN values with 0: ', round(rmse, 2))"
      ],
      "metadata": {
        "colab": {
          "base_uri": "https://localhost:8080/",
          "height": 427
        },
        "id": "sNmX3ypu6h51",
        "outputId": "4b1b5d96-f4df-4f0c-c168-c5e09a3d8399"
      },
      "execution_count": 172,
      "outputs": [
        {
          "output_type": "display_data",
          "data": {
            "text/plain": [
              "<Figure size 600x400 with 1 Axes>"
            ],
            "image/png": "[encoded data removed]"
          },
          "metadata": {}
        },
        {
          "output_type": "stream",
          "name": "stdout",
          "text": [
            "RMSE when filling the NaN values with 0:  0.43\n"
          ]
        }
      ]
    },
    {
      "cell_type": "code",
      "source": [
        "# Option 2: fill with mean values\n",
        "means = df_train.mean()\n",
        "X_train = prepare_X(df_train, fill_value=means)\n",
        "W = train_linear_regression(X_train, y_train)\n",
        "y_train_pred = W[0] + X_train @ W[1:]\n",
        "plot_predictions(y_train, y_train_pred)\n",
        "\n",
        "X_val = prepare_X(df_val, fill_value=0)\n",
        "y_val_pred = W[0] + X_val @ W[1:]\n",
        "rmse = compute_rmse(y_val_pred, y_val)\n",
        "print('RMSE when filling the NaN values with mean values: ', round(rmse, 2))"
      ],
      "metadata": {
        "colab": {
          "base_uri": "https://localhost:8080/",
          "height": 427
        },
        "id": "KzqtgVny01Er",
        "outputId": "a817b3c5-504f-4d43-949e-b88638031f63"
      },
      "execution_count": 173,
      "outputs": [
        {
          "output_type": "display_data",
          "data": {
            "text/plain": [
              "<Figure size 600x400 with 1 Axes>"
            ],
            "image/png": "[encoded data removed]"
          },
          "metadata": {}
        },
        {
          "output_type": "stream",
          "name": "stdout",
          "text": [
            "RMSE when filling the NaN values with mean values:  0.43\n"
          ]
        }
      ]
    },
    {
      "cell_type": "code",
      "source": [
        "'''\n",
        "Question 4\n",
        "Now let's train a regularized linear regression.\n",
        "For this question, fill the NAs with 0.\n",
        "Try different values of r from this list: [0, 0.01, 0.1, 1, 5, 10, 100].\n",
        "Use RMSE to evaluate the model on the validation dataset.\n",
        "Round the RMSE scores to 2 decimal digits.\n",
        "Which r gives the best RMSE?\n",
        "If there are multiple options, select the smallest r.\n",
        "\n",
        "Options:\n",
        "0\n",
        "0.01\n",
        "1\n",
        "10\n",
        "100\n",
        "'''\n",
        "def train_linear_regression_reg(X, y, r=0.0):\n",
        "  ones = np.ones(X.shape[0])\n",
        "  X = np.column_stack([ones, X])\n",
        "  XTX = X.T @ X\n",
        "  reg = r * np.eye(XTX.shape[0])\n",
        "  XTX_inv = np.linalg.inv(XTX + reg)\n",
        "  W = XTX_inv @ X.T @ y\n",
        "  return W\n",
        "\n",
        "regularization_params = [0, 0.01, 0.1, 1, 5, 10, 100]"
      ],
      "metadata": {
        "id": "4gPIdEdj8JTq"
      },
      "execution_count": 174,
      "outputs": []
    },
    {
      "cell_type": "code",
      "source": [
        "for r in regularization_params:\n",
        "  X_train = prepare_X(df_train, fill_value=0)\n",
        "  W = train_linear_regression_reg(X_train, y_train, r=r)\n",
        "\n",
        "  X_val = prepare_X(df_val, fill_value=0)\n",
        "  y_val_pred = W[0] + X_val @ W[1:]\n",
        "  rmse = compute_rmse(y_val_pred, y_val)\n",
        "\n",
        "  print(f'RMSE with {r} regularization: {round(rmse, 2)}')"
      ],
      "metadata": {
        "colab": {
          "base_uri": "https://localhost:8080/"
        },
        "id": "gmJytuj8-r4p",
        "outputId": "2f3e3f39-2552-4ee1-a4e7-3b7f65f36cfb"
      },
      "execution_count": 179,
      "outputs": [
        {
          "output_type": "stream",
          "name": "stdout",
          "text": [
            "RMSE with 0 regularization: 0.41\n",
            "RMSE with 0.01 regularization: 0.41\n",
            "RMSE with 0.1 regularization: 0.41\n",
            "RMSE with 1 regularization: 0.42\n",
            "RMSE with 5 regularization: 0.49\n",
            "RMSE with 10 regularization: 0.57\n",
            "RMSE with 100 regularization: 0.77\n"
          ]
        }
      ]
    },
    {
      "cell_type": "code",
      "source": [
        "'''\n",
        "Question 5\n",
        "We used seed 42 for splitting the data. Let's find out how selecting the seed influences our score.\n",
        "Try different seed values: [0, 1, 2, 3, 4, 5, 6, 7, 8, 9].\n",
        "For each seed, do the train/validation/test split with 60%/20%/20% distribution.\n",
        "Fill the missing values with 0 and train a model without regularization.\n",
        "For each seed, evaluate the model on the validation dataset and collect the RMSE scores.\n",
        "What's the standard deviation of all the scores? To compute the standard deviation, use np.std.\n",
        "Round the result to 3 decimal digits (round(std, 3))\n",
        "'''\n",
        "seed_values = [0, 1, 2, 3, 4, 5, 6, 7, 8, 9]\n",
        "rmse_results = []\n",
        "\n",
        "for seed in seed_values:\n",
        "  np.random.seed(seed)\n",
        "  idx = np.arange(n)\n",
        "  np.random.shuffle(idx)\n",
        "\n",
        "  df_train = df.iloc[idx[:n_train]]\n",
        "  df_val = df.iloc[idx[n_train:n_train+n_val]]\n",
        "\n",
        "  df_train = df_train.reset_index(drop=True)\n",
        "  df_val = df_val.reset_index(drop=True)\n",
        "\n",
        "  y_train = np.log1p(df_train.final_price.values)\n",
        "  y_val = np.log1p(df_val.final_price.values)\n",
        "\n",
        "  y_train_org = df_train.final_price.values\n",
        "  y_val_org = df_val.final_price.values\n",
        "\n",
        "  del df_train['final_price']\n",
        "  del df_val['final_price']\n",
        "\n",
        "  X_train = prepare_X(df_train, fill_value=0)\n",
        "  W = train_linear_regression(X_train, y_train_org)\n",
        "\n",
        "  X_val = prepare_X(df_val, fill_value=0)\n",
        "  y_val_pred = W[0] + X_val @ W[1:]\n",
        "  rmse = compute_rmse(y_val_pred, y_val_org)\n",
        "\n",
        "  rmse_results.append(rmse)\n",
        "  print(f'RMSE with seed {seed}: {rmse}')\n",
        "\n",
        "std_rmse = np.std(rmse_results)\n",
        "print('Standard deviation of all RMSE values: ', round(std_rmse, 3))"
      ],
      "metadata": {
        "colab": {
          "base_uri": "https://localhost:8080/"
        },
        "id": "ZqXANJoSBRHi",
        "outputId": "57e0b6a3-4fbc-4e11-ca7d-b913a8047066"
      },
      "execution_count": 187,
      "outputs": [
        {
          "output_type": "stream",
          "name": "stdout",
          "text": [
            "RMSE with seed 0: 565.4520868770967\n",
            "RMSE with seed 1: 636.7985423056728\n",
            "RMSE with seed 2: 588.9558697907961\n",
            "RMSE with seed 3: 597.8148920012504\n",
            "RMSE with seed 4: 571.9627915111031\n",
            "RMSE with seed 5: 573.2383256618945\n",
            "RMSE with seed 6: 647.3438328407209\n",
            "RMSE with seed 7: 550.4398184485949\n",
            "RMSE with seed 8: 587.33350361699\n",
            "RMSE with seed 9: 576.1017929433106\n",
            "Standard deviation of all RMSE values:  29.176\n"
          ]
        }
      ]
    },
    {
      "cell_type": "code",
      "source": [
        "'''\n",
        "Question 6\n",
        "Split the dataset like previously, use seed 9.\n",
        "Combine train and validation datasets.\n",
        "Fill the missing values with 0 and train a model with r=0.001.\n",
        "What's the RMSE on the test dataset?\n",
        "'''\n",
        "r = 0.001\n",
        "seed = 9\n",
        "\n",
        "np.random.seed(seed)\n",
        "idx = np.arange(n)\n",
        "np.random.shuffle(idx)\n",
        "\n",
        "df_train = df.iloc[idx[:n_train+n_val]]\n",
        "df_test = df.iloc[idx[n_train+n_val:]]\n",
        "\n",
        "df_train = df_train.reset_index(drop=True)\n",
        "df_test = df_test.reset_index(drop=True)\n",
        "\n",
        "y_train = np.log1p(df_train.final_price.values)\n",
        "y_test = np.log1p(df_test.final_price.values)\n",
        "\n",
        "y_train_org = df_train.final_price.values\n",
        "y_test_org = df_test.final_price.values\n",
        "\n",
        "del df_train['final_price']\n",
        "del df_test['final_price']\n",
        "\n",
        "X_train = prepare_X(df_train, fill_value=0)\n",
        "W = train_linear_regression_reg(X_train, y_train_org, r=r)\n",
        "\n",
        "X_test = prepare_X(df_test, fill_value=0)\n",
        "y_test_pred = W[0] + X_test @ W[1:]\n",
        "rmse = compute_rmse(y_test_pred, y_test_org)\n",
        "\n",
        "print(f'RMSE with seed {seed}: {rmse}')"
      ],
      "metadata": {
        "colab": {
          "base_uri": "https://localhost:8080/"
        },
        "id": "w0RNN80J9Ptj",
        "outputId": "30278047-e27d-4dfb-ffbc-f25bc290bfab"
      },
      "execution_count": 188,
      "outputs": [
        {
          "output_type": "stream",
          "name": "stdout",
          "text": [
            "RMSE with seed 9: 608.6099822049584\n"
          ]
        }
      ]
    }
  ]
}