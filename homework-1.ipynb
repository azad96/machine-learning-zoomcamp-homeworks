{
 "cells": [
  {
   "cell_type": "code",
   "execution_count": 61,
   "id": "d45489e2-bc50-4ba3-be7d-73999144c740",
   "metadata": {},
   "outputs": [
    {
     "name": "stdout",
     "output_type": "stream",
     "text": [
      "Python 3.11.9\n"
     ]
    }
   ],
   "source": [
    "!python -V"
   ]
  },
  {
   "cell_type": "code",
   "execution_count": 62,
   "id": "b19f98a2-4cd2-4b8c-8c47-5ab15fb214a1",
   "metadata": {},
   "outputs": [],
   "source": [
    "import numpy as np\n",
    "import pandas as pd"
   ]
  },
  {
   "cell_type": "code",
   "execution_count": 63,
   "id": "4b21ca20-48af-4451-9656-f2db5de11e47",
   "metadata": {},
   "outputs": [
    {
     "data": {
      "text/plain": [
       "'2.2.2'"
      ]
     },
     "execution_count": 63,
     "metadata": {},
     "output_type": "execute_result"
    }
   ],
   "source": [
    "# Question 1. What's the version of Pandas that you installed?\n",
    "pd.__version__"
   ]
  },
  {
   "cell_type": "code",
   "execution_count": 64,
   "id": "2a2e986e-4f46-45bb-8ca1-a7742dca895b",
   "metadata": {},
   "outputs": [
    {
     "name": "stdout",
     "output_type": "stream",
     "text": [
      "--2024-09-18 22:09:58--  https://raw.githubusercontent.com/alexeygrigorev/datasets/master/laptops.csv\n",
      "Resolving raw.githubusercontent.com (raw.githubusercontent.com)... 185.199.109.133, 185.199.108.133, 185.199.111.133, ...\n",
      "Connecting to raw.githubusercontent.com (raw.githubusercontent.com)|185.199.109.133|:443... connected.\n",
      "HTTP request sent, awaiting response... 200 OK\n",
      "Length: 298573 (292K) [text/plain]\n",
      "Saving to: ‘laptops.csv.1’\n",
      "\n",
      "laptops.csv.1       100%[===================>] 291.58K  --.-KB/s    in 0.008s  \n",
      "\n",
      "2024-09-18 22:09:58 (34.7 MB/s) - ‘laptops.csv.1’ saved [298573/298573]\n",
      "\n"
     ]
    }
   ],
   "source": [
    "!wget https://raw.githubusercontent.com/alexeygrigorev/datasets/master/laptops.csv"
   ]
  },
  {
   "cell_type": "code",
   "execution_count": 65,
   "id": "52aa0b46-6d74-4b3f-8b52-a47c935f4b45",
   "metadata": {},
   "outputs": [],
   "source": [
    "df = pd.read_csv('laptops.csv')"
   ]
  },
  {
   "cell_type": "code",
   "execution_count": 66,
   "id": "6d43a2f1-2b76-49f8-88be-9c8ac6d570d3",
   "metadata": {},
   "outputs": [
    {
     "data": {
      "text/plain": [
       "2160"
      ]
     },
     "execution_count": 66,
     "metadata": {},
     "output_type": "execute_result"
    }
   ],
   "source": [
    "# Q2. Records count\n",
    "# How many records are in the dataset?\n",
    "df.shape[0]"
   ]
  },
  {
   "cell_type": "code",
   "execution_count": 67,
   "id": "d82193af-8189-4401-8954-eb0c3ddda3a1",
   "metadata": {},
   "outputs": [
    {
     "data": {
      "text/plain": [
       "27"
      ]
     },
     "execution_count": 67,
     "metadata": {},
     "output_type": "execute_result"
    }
   ],
   "source": [
    "# Question 3. Laptop brands\n",
    "# How many laptop brands are presented in the dataset?\n",
    "df.Brand.nunique()"
   ]
  },
  {
   "cell_type": "code",
   "execution_count": 68,
   "id": "611e7846-164b-4bf1-9fd8-808bc02fca42",
   "metadata": {},
   "outputs": [
    {
     "data": {
      "text/plain": [
       "Laptop             0\n",
       "Status             0\n",
       "Brand              0\n",
       "Model              0\n",
       "CPU                0\n",
       "RAM                0\n",
       "Storage            0\n",
       "Storage type      42\n",
       "GPU             1371\n",
       "Screen             4\n",
       "Touch              0\n",
       "Final Price        0\n",
       "dtype: int64"
      ]
     },
     "execution_count": 68,
     "metadata": {},
     "output_type": "execute_result"
    }
   ],
   "source": [
    "# Question 4. Missing values\n",
    "# How many columns in the dataset have missing values?\n",
    "df.isnull().sum()\n",
    "#(df.isnull().sum() != 0).sum()"
   ]
  },
  {
   "cell_type": "code",
   "execution_count": 69,
   "id": "8ce4b438-8b6b-44b6-a965-79731475ab64",
   "metadata": {},
   "outputs": [
    {
     "data": {
      "text/plain": [
       "3936.0"
      ]
     },
     "execution_count": 69,
     "metadata": {},
     "output_type": "execute_result"
    }
   ],
   "source": [
    "# Question 5. Maximum final price\n",
    "# What's the maximum final price of Dell notebooks in the dataset?\n",
    "df[df['Brand'] == 'Dell']['Final Price'].max()"
   ]
  },
  {
   "cell_type": "code",
   "execution_count": null,
   "id": "d850399d-d84a-465b-8b97-a1f855f55fa7",
   "metadata": {},
   "outputs": [],
   "source": [
    "# Question 6. Median value of Screen\n",
    "# Find the median value of Screen column in the dataset.\n",
    "median_before = df['Screen'].median()\n",
    "\n",
    "# Next, calculate the most frequent value of the same Screen column.\n",
    "mode = df['Screen'].mode()[0]\n",
    "\n",
    "# Use fillna method to fill the missing values in Screen column with the most frequent value from the previous step.\n",
    "df['Screen'].fillna(mode)\n",
    "\n",
    "# Now, calculate the median value of Screen once again.\n",
    "median_after = df['Screen'].median()\n",
    "\n",
    "# Has it changed?\n",
    "median_before == median_after"
   ]
  },
  {
   "cell_type": "code",
   "execution_count": 60,
   "id": "b84058b5-460b-45cc-b534-beb01df36770",
   "metadata": {},
   "outputs": [
    {
     "data": {
      "text/plain": [
       "91.29988062995815"
      ]
     },
     "execution_count": 60,
     "metadata": {},
     "output_type": "execute_result"
    }
   ],
   "source": [
    "# Question 7. Sum of weights\n",
    "# Select all the \"Innjoo\" laptops from the dataset.\n",
    "innjoo_laptops = df[df['Brand'] == 'Innjoo']\n",
    "\n",
    "# Select only columns RAM, Storage, Screen.\n",
    "innjoo_laptops = innjoo_laptops[['RAM', 'Storage', 'Screen']]\n",
    "\n",
    "# Get the underlying NumPy array. Let's call it X.\n",
    "X = innjoo_laptops.values\n",
    "\n",
    "# Compute matrix-matrix multiplication between the transpose of X and X. To get the transpose, use X.T. Let's call the result XTX.\n",
    "XTX = X.T @ X\n",
    "\n",
    "# Compute the inverse of XTX.\n",
    "XTX_inv = np.linalg.inv(XTX)\n",
    "\n",
    "# Create an array y with values [1100, 1300, 800, 900, 1000, 1100].\n",
    "y = np.array([1100, 1300, 800, 900, 1000, 1100])\n",
    "\n",
    "# Multiply the inverse of XTX with the transpose of X, and then multiply the result by y. Call the result w.\n",
    "w = XTX_inv @ X.T @ y\n",
    "\n",
    "# What's the sum of all the elements of the result?\n",
    "w.sum()"
   ]
  },
  {
   "cell_type": "code",
   "execution_count": null,
   "id": "3427fab4-4c37-4f98-b7b3-34cbdd5e80fa",
   "metadata": {},
   "outputs": [],
   "source": []
  }
 ],
 "metadata": {
  "kernelspec": {
   "display_name": "Python 3 (ipykernel)",
   "language": "python",
   "name": "python3"
  },
  "language_info": {
   "codemirror_mode": {
    "name": "ipython",
    "version": 3
   },
   "file_extension": ".py",
   "mimetype": "text/x-python",
   "name": "python",
   "nbconvert_exporter": "python",
   "pygments_lexer": "ipython3",
   "version": "3.11.9"
  }
 },
 "nbformat": 4,
 "nbformat_minor": 5
}
